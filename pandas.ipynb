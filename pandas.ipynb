{
 "cells": [
  {
   "cell_type": "code",
   "execution_count": 1,
   "id": "4cab306d",
   "metadata": {},
   "outputs": [],
   "source": [
    "data={\n",
    "    'Product':['A','B','C'],\n",
    "    'Price':[10.99, 12.49, 8.75],\n",
    "    'Instock':[True,False,True],\n",
    "}"
   ]
  },
  {
   "cell_type": "code",
   "execution_count": 2,
   "id": "71d596b9",
   "metadata": {},
   "outputs": [],
   "source": [
    "import pandas as pd"
   ]
  },
  {
   "cell_type": "code",
   "execution_count": 3,
   "id": "5b4c8049",
   "metadata": {},
   "outputs": [],
   "source": [
    "df=pd.DataFrame(data)"
   ]
  },
  {
   "cell_type": "code",
   "execution_count": 4,
   "id": "5adb9bd9",
   "metadata": {},
   "outputs": [
    {
     "data": {
      "application/vnd.microsoft.datawrangler.viewer.v0+json": {
       "columns": [
        {
         "name": "index",
         "rawType": "int64",
         "type": "integer"
        },
        {
         "name": "Product",
         "rawType": "object",
         "type": "string"
        },
        {
         "name": "Price",
         "rawType": "float64",
         "type": "float"
        },
        {
         "name": "Instock",
         "rawType": "bool",
         "type": "boolean"
        }
       ],
       "ref": "d186b745-1140-4527-be4f-eae0f2914303",
       "rows": [
        [
         "0",
         "A",
         "10.99",
         "True"
        ],
        [
         "1",
         "B",
         "12.49",
         "False"
        ],
        [
         "2",
         "C",
         "8.75",
         "True"
        ]
       ],
       "shape": {
        "columns": 3,
        "rows": 3
       }
      },
      "text/html": [
       "<div>\n",
       "<style scoped>\n",
       "    .dataframe tbody tr th:only-of-type {\n",
       "        vertical-align: middle;\n",
       "    }\n",
       "\n",
       "    .dataframe tbody tr th {\n",
       "        vertical-align: top;\n",
       "    }\n",
       "\n",
       "    .dataframe thead th {\n",
       "        text-align: right;\n",
       "    }\n",
       "</style>\n",
       "<table border=\"1\" class=\"dataframe\">\n",
       "  <thead>\n",
       "    <tr style=\"text-align: right;\">\n",
       "      <th></th>\n",
       "      <th>Product</th>\n",
       "      <th>Price</th>\n",
       "      <th>Instock</th>\n",
       "    </tr>\n",
       "  </thead>\n",
       "  <tbody>\n",
       "    <tr>\n",
       "      <th>0</th>\n",
       "      <td>A</td>\n",
       "      <td>10.99</td>\n",
       "      <td>True</td>\n",
       "    </tr>\n",
       "    <tr>\n",
       "      <th>1</th>\n",
       "      <td>B</td>\n",
       "      <td>12.49</td>\n",
       "      <td>False</td>\n",
       "    </tr>\n",
       "    <tr>\n",
       "      <th>2</th>\n",
       "      <td>C</td>\n",
       "      <td>8.75</td>\n",
       "      <td>True</td>\n",
       "    </tr>\n",
       "  </tbody>\n",
       "</table>\n",
       "</div>"
      ],
      "text/plain": [
       "  Product  Price  Instock\n",
       "0       A  10.99     True\n",
       "1       B  12.49    False\n",
       "2       C   8.75     True"
      ]
     },
     "execution_count": 4,
     "metadata": {},
     "output_type": "execute_result"
    }
   ],
   "source": [
    "df"
   ]
  },
  {
   "cell_type": "code",
   "execution_count": 5,
   "id": "edd1785a",
   "metadata": {},
   "outputs": [
    {
     "data": {
      "application/vnd.microsoft.datawrangler.viewer.v0+json": {
       "columns": [
        {
         "name": "index",
         "rawType": "int64",
         "type": "integer"
        },
        {
         "name": "Product",
         "rawType": "object",
         "type": "string"
        },
        {
         "name": "Price",
         "rawType": "float64",
         "type": "float"
        },
        {
         "name": "Instock",
         "rawType": "bool",
         "type": "boolean"
        }
       ],
       "ref": "6e08cf8c-f669-4681-812f-c7298c006541",
       "rows": [
        [
         "0",
         "A",
         "10.99",
         "True"
        ],
        [
         "1",
         "B",
         "12.49",
         "False"
        ]
       ],
       "shape": {
        "columns": 3,
        "rows": 2
       }
      },
      "text/html": [
       "<div>\n",
       "<style scoped>\n",
       "    .dataframe tbody tr th:only-of-type {\n",
       "        vertical-align: middle;\n",
       "    }\n",
       "\n",
       "    .dataframe tbody tr th {\n",
       "        vertical-align: top;\n",
       "    }\n",
       "\n",
       "    .dataframe thead th {\n",
       "        text-align: right;\n",
       "    }\n",
       "</style>\n",
       "<table border=\"1\" class=\"dataframe\">\n",
       "  <thead>\n",
       "    <tr style=\"text-align: right;\">\n",
       "      <th></th>\n",
       "      <th>Product</th>\n",
       "      <th>Price</th>\n",
       "      <th>Instock</th>\n",
       "    </tr>\n",
       "  </thead>\n",
       "  <tbody>\n",
       "    <tr>\n",
       "      <th>0</th>\n",
       "      <td>A</td>\n",
       "      <td>10.99</td>\n",
       "      <td>True</td>\n",
       "    </tr>\n",
       "    <tr>\n",
       "      <th>1</th>\n",
       "      <td>B</td>\n",
       "      <td>12.49</td>\n",
       "      <td>False</td>\n",
       "    </tr>\n",
       "  </tbody>\n",
       "</table>\n",
       "</div>"
      ],
      "text/plain": [
       "  Product  Price  Instock\n",
       "0       A  10.99     True\n",
       "1       B  12.49    False"
      ]
     },
     "execution_count": 5,
     "metadata": {},
     "output_type": "execute_result"
    }
   ],
   "source": [
    "df[df['Price']>10]"
   ]
  },
  {
   "cell_type": "code",
   "execution_count": 6,
   "id": "56c53ba7",
   "metadata": {},
   "outputs": [
    {
     "data": {
      "application/vnd.microsoft.datawrangler.viewer.v0+json": {
       "columns": [
        {
         "name": "index",
         "rawType": "int64",
         "type": "integer"
        },
        {
         "name": "Product",
         "rawType": "object",
         "type": "string"
        },
        {
         "name": "Price",
         "rawType": "float64",
         "type": "float"
        },
        {
         "name": "Instock",
         "rawType": "bool",
         "type": "boolean"
        }
       ],
       "ref": "7bdcb326-cc98-410a-934a-30646ae238e7",
       "rows": [
        [
         "0",
         "A",
         "10.99",
         "True"
        ],
        [
         "2",
         "C",
         "8.75",
         "True"
        ]
       ],
       "shape": {
        "columns": 3,
        "rows": 2
       }
      },
      "text/html": [
       "<div>\n",
       "<style scoped>\n",
       "    .dataframe tbody tr th:only-of-type {\n",
       "        vertical-align: middle;\n",
       "    }\n",
       "\n",
       "    .dataframe tbody tr th {\n",
       "        vertical-align: top;\n",
       "    }\n",
       "\n",
       "    .dataframe thead th {\n",
       "        text-align: right;\n",
       "    }\n",
       "</style>\n",
       "<table border=\"1\" class=\"dataframe\">\n",
       "  <thead>\n",
       "    <tr style=\"text-align: right;\">\n",
       "      <th></th>\n",
       "      <th>Product</th>\n",
       "      <th>Price</th>\n",
       "      <th>Instock</th>\n",
       "    </tr>\n",
       "  </thead>\n",
       "  <tbody>\n",
       "    <tr>\n",
       "      <th>0</th>\n",
       "      <td>A</td>\n",
       "      <td>10.99</td>\n",
       "      <td>True</td>\n",
       "    </tr>\n",
       "    <tr>\n",
       "      <th>2</th>\n",
       "      <td>C</td>\n",
       "      <td>8.75</td>\n",
       "      <td>True</td>\n",
       "    </tr>\n",
       "  </tbody>\n",
       "</table>\n",
       "</div>"
      ],
      "text/plain": [
       "  Product  Price  Instock\n",
       "0       A  10.99     True\n",
       "2       C   8.75     True"
      ]
     },
     "execution_count": 6,
     "metadata": {},
     "output_type": "execute_result"
    }
   ],
   "source": [
    "df[df['Instock']==True]"
   ]
  },
  {
   "cell_type": "code",
   "execution_count": 10,
   "id": "cb722ddd",
   "metadata": {},
   "outputs": [
    {
     "data": {
      "application/vnd.microsoft.datawrangler.viewer.v0+json": {
       "columns": [
        {
         "name": "index",
         "rawType": "object",
         "type": "string"
        },
        {
         "name": "0",
         "rawType": "object",
         "type": "unknown"
        }
       ],
       "ref": "e8197912-6993-42bf-8c25-70fe3e51de8b",
       "rows": [
        [
         "Product",
         "A"
        ],
        [
         "Price",
         "10.99"
        ],
        [
         "Instock",
         "True"
        ]
       ],
       "shape": {
        "columns": 1,
        "rows": 3
       }
      },
      "text/plain": [
       "Product        A\n",
       "Price      10.99\n",
       "Instock     True\n",
       "Name: 0, dtype: object"
      ]
     },
     "execution_count": 10,
     "metadata": {},
     "output_type": "execute_result"
    }
   ],
   "source": [
    "df.loc[0]"
   ]
  },
  {
   "cell_type": "code",
   "execution_count": 8,
   "id": "cc4fdc9c",
   "metadata": {},
   "outputs": [
    {
     "data": {
      "application/vnd.microsoft.datawrangler.viewer.v0+json": {
       "columns": [
        {
         "name": "index",
         "rawType": "object",
         "type": "string"
        },
        {
         "name": "0",
         "rawType": "object",
         "type": "unknown"
        }
       ],
       "ref": "18ef140b-5f03-4eec-b808-1b9160feaed4",
       "rows": [
        [
         "Product",
         "A"
        ],
        [
         "Price",
         "10.99"
        ],
        [
         "Instock",
         "True"
        ]
       ],
       "shape": {
        "columns": 1,
        "rows": 3
       }
      },
      "text/plain": [
       "Product        A\n",
       "Price      10.99\n",
       "Instock     True\n",
       "Name: 0, dtype: object"
      ]
     },
     "execution_count": 8,
     "metadata": {},
     "output_type": "execute_result"
    }
   ],
   "source": [
    "df.iloc[0]"
   ]
  },
  {
   "cell_type": "code",
   "execution_count": 14,
   "id": "1deaab5a",
   "metadata": {},
   "outputs": [
    {
     "data": {
      "application/vnd.microsoft.datawrangler.viewer.v0+json": {
       "columns": [
        {
         "name": "Product",
         "rawType": "object",
         "type": "string"
        },
        {
         "name": "Price",
         "rawType": "float64",
         "type": "float"
        },
        {
         "name": "Instock",
         "rawType": "bool",
         "type": "boolean"
        }
       ],
       "ref": "8a4e13ee-53ed-4069-a1b8-33d2105d4621",
       "rows": [
        [
         "A",
         "10.99",
         "True"
        ],
        [
         "B",
         "12.49",
         "False"
        ],
        [
         "C",
         "8.75",
         "True"
        ]
       ],
       "shape": {
        "columns": 2,
        "rows": 3
       }
      },
      "text/html": [
       "<div>\n",
       "<style scoped>\n",
       "    .dataframe tbody tr th:only-of-type {\n",
       "        vertical-align: middle;\n",
       "    }\n",
       "\n",
       "    .dataframe tbody tr th {\n",
       "        vertical-align: top;\n",
       "    }\n",
       "\n",
       "    .dataframe thead th {\n",
       "        text-align: right;\n",
       "    }\n",
       "</style>\n",
       "<table border=\"1\" class=\"dataframe\">\n",
       "  <thead>\n",
       "    <tr style=\"text-align: right;\">\n",
       "      <th></th>\n",
       "      <th>Price</th>\n",
       "      <th>Instock</th>\n",
       "    </tr>\n",
       "    <tr>\n",
       "      <th>Product</th>\n",
       "      <th></th>\n",
       "      <th></th>\n",
       "    </tr>\n",
       "  </thead>\n",
       "  <tbody>\n",
       "    <tr>\n",
       "      <th>A</th>\n",
       "      <td>10.99</td>\n",
       "      <td>True</td>\n",
       "    </tr>\n",
       "    <tr>\n",
       "      <th>B</th>\n",
       "      <td>12.49</td>\n",
       "      <td>False</td>\n",
       "    </tr>\n",
       "    <tr>\n",
       "      <th>C</th>\n",
       "      <td>8.75</td>\n",
       "      <td>True</td>\n",
       "    </tr>\n",
       "  </tbody>\n",
       "</table>\n",
       "</div>"
      ],
      "text/plain": [
       "         Price  Instock\n",
       "Product                \n",
       "A        10.99     True\n",
       "B        12.49    False\n",
       "C         8.75     True"
      ]
     },
     "execution_count": 14,
     "metadata": {},
     "output_type": "execute_result"
    }
   ],
   "source": [
    "df"
   ]
  },
  {
   "cell_type": "code",
   "execution_count": 13,
   "id": "11ac78ab",
   "metadata": {},
   "outputs": [],
   "source": [
    "df.set_index('Product',inplace=True)"
   ]
  },
  {
   "cell_type": "code",
   "execution_count": 15,
   "id": "d9b79490",
   "metadata": {},
   "outputs": [
    {
     "data": {
      "application/vnd.microsoft.datawrangler.viewer.v0+json": {
       "columns": [
        {
         "name": "index",
         "rawType": "object",
         "type": "string"
        },
        {
         "name": "A",
         "rawType": "object",
         "type": "unknown"
        }
       ],
       "ref": "dba8c1af-c291-4265-860d-6cf048f355f5",
       "rows": [
        [
         "Price",
         "10.99"
        ],
        [
         "Instock",
         "True"
        ]
       ],
       "shape": {
        "columns": 1,
        "rows": 2
       }
      },
      "text/plain": [
       "Price      10.99\n",
       "Instock     True\n",
       "Name: A, dtype: object"
      ]
     },
     "execution_count": 15,
     "metadata": {},
     "output_type": "execute_result"
    }
   ],
   "source": [
    "df.loc['A']"
   ]
  },
  {
   "cell_type": "code",
   "execution_count": 16,
   "id": "d8e18dc7",
   "metadata": {},
   "outputs": [
    {
     "name": "stdout",
     "output_type": "stream",
     "text": [
      "2.2.3\n"
     ]
    }
   ],
   "source": [
    "print(pd.__version__)"
   ]
  },
  {
   "cell_type": "code",
   "execution_count": 65,
   "id": "fdfc9591",
   "metadata": {},
   "outputs": [],
   "source": [
    "dff=pd.read_csv('employee_data.csv')"
   ]
  },
  {
   "cell_type": "code",
   "execution_count": 50,
   "id": "e0320267",
   "metadata": {},
   "outputs": [
    {
     "data": {
      "application/vnd.microsoft.datawrangler.viewer.v0+json": {
       "columns": [
        {
         "name": "index",
         "rawType": "object",
         "type": "string"
        },
        {
         "name": "0",
         "rawType": "int64",
         "type": "integer"
        }
       ],
       "ref": "15ee3451-6ce7-4125-90c4-b2387ed017a9",
       "rows": [
        [
         "EmployeeID",
         "0"
        ],
        [
         "Name",
         "0"
        ],
        [
         "Department",
         "0"
        ],
        [
         "Salary",
         "1"
        ],
        [
         "JoinDate",
         "0"
        ],
        [
         "PerformanceScore",
         "2"
        ],
        [
         "Active",
         "1"
        ]
       ],
       "shape": {
        "columns": 1,
        "rows": 7
       }
      },
      "text/plain": [
       "EmployeeID          0\n",
       "Name                0\n",
       "Department          0\n",
       "Salary              1\n",
       "JoinDate            0\n",
       "PerformanceScore    2\n",
       "Active              1\n",
       "dtype: int64"
      ]
     },
     "execution_count": 50,
     "metadata": {},
     "output_type": "execute_result"
    }
   ],
   "source": [
    "dff.isnull().sum()\n"
   ]
  },
  {
   "cell_type": "code",
   "execution_count": 51,
   "id": "10b21449",
   "metadata": {},
   "outputs": [],
   "source": [
    "dff.dropna(inplace = True)"
   ]
  },
  {
   "cell_type": "code",
   "execution_count": 52,
   "id": "540d81b0",
   "metadata": {},
   "outputs": [
    {
     "data": {
      "application/vnd.microsoft.datawrangler.viewer.v0+json": {
       "columns": [
        {
         "name": "index",
         "rawType": "int64",
         "type": "integer"
        },
        {
         "name": "EmployeeID",
         "rawType": "int64",
         "type": "integer"
        },
        {
         "name": "Name",
         "rawType": "object",
         "type": "string"
        },
        {
         "name": "Department",
         "rawType": "object",
         "type": "string"
        },
        {
         "name": "Salary",
         "rawType": "float64",
         "type": "float"
        },
        {
         "name": "JoinDate",
         "rawType": "object",
         "type": "string"
        },
        {
         "name": "PerformanceScore",
         "rawType": "float64",
         "type": "float"
        },
        {
         "name": "Active",
         "rawType": "object",
         "type": "unknown"
        }
       ],
       "ref": "e37b61ae-ca88-4a0a-b5bb-3ccdef4e80a5",
       "rows": [
        [
         "1",
         "102",
         "Bob",
         "Finance",
         "62000.0",
         "2019-07-15",
         "4.2",
         "True"
        ],
        [
         "2",
         "103",
         "Charlie",
         "IT",
         "72000.0",
         "2020-08-10",
         "4.8",
         "True"
        ],
        [
         "3",
         "104",
         "David",
         "Marketing",
         "58000.0",
         "2017-03-12",
         "3.9",
         "False"
        ],
        [
         "4",
         "105",
         "Eva",
         "IT",
         "69000.0",
         "2021-01-05",
         "4.5",
         "True"
        ],
        [
         "6",
         "107",
         "Grace",
         "HR",
         "53000.0",
         "2019-04-18",
         "3.2",
         "False"
        ],
        [
         "7",
         "108",
         "Helen",
         "Marketing",
         "60000.0",
         "2020-09-25",
         "4.1",
         "True"
        ],
        [
         "9",
         "110",
         "Jane",
         "Finance",
         "63000.0",
         "2021-06-01",
         "4.3",
         "True"
        ]
       ],
       "shape": {
        "columns": 7,
        "rows": 7
       }
      },
      "text/html": [
       "<div>\n",
       "<style scoped>\n",
       "    .dataframe tbody tr th:only-of-type {\n",
       "        vertical-align: middle;\n",
       "    }\n",
       "\n",
       "    .dataframe tbody tr th {\n",
       "        vertical-align: top;\n",
       "    }\n",
       "\n",
       "    .dataframe thead th {\n",
       "        text-align: right;\n",
       "    }\n",
       "</style>\n",
       "<table border=\"1\" class=\"dataframe\">\n",
       "  <thead>\n",
       "    <tr style=\"text-align: right;\">\n",
       "      <th></th>\n",
       "      <th>EmployeeID</th>\n",
       "      <th>Name</th>\n",
       "      <th>Department</th>\n",
       "      <th>Salary</th>\n",
       "      <th>JoinDate</th>\n",
       "      <th>PerformanceScore</th>\n",
       "      <th>Active</th>\n",
       "    </tr>\n",
       "  </thead>\n",
       "  <tbody>\n",
       "    <tr>\n",
       "      <th>1</th>\n",
       "      <td>102</td>\n",
       "      <td>Bob</td>\n",
       "      <td>Finance</td>\n",
       "      <td>62000.0</td>\n",
       "      <td>2019-07-15</td>\n",
       "      <td>4.2</td>\n",
       "      <td>True</td>\n",
       "    </tr>\n",
       "    <tr>\n",
       "      <th>2</th>\n",
       "      <td>103</td>\n",
       "      <td>Charlie</td>\n",
       "      <td>IT</td>\n",
       "      <td>72000.0</td>\n",
       "      <td>2020-08-10</td>\n",
       "      <td>4.8</td>\n",
       "      <td>True</td>\n",
       "    </tr>\n",
       "    <tr>\n",
       "      <th>3</th>\n",
       "      <td>104</td>\n",
       "      <td>David</td>\n",
       "      <td>Marketing</td>\n",
       "      <td>58000.0</td>\n",
       "      <td>2017-03-12</td>\n",
       "      <td>3.9</td>\n",
       "      <td>False</td>\n",
       "    </tr>\n",
       "    <tr>\n",
       "      <th>4</th>\n",
       "      <td>105</td>\n",
       "      <td>Eva</td>\n",
       "      <td>IT</td>\n",
       "      <td>69000.0</td>\n",
       "      <td>2021-01-05</td>\n",
       "      <td>4.5</td>\n",
       "      <td>True</td>\n",
       "    </tr>\n",
       "    <tr>\n",
       "      <th>6</th>\n",
       "      <td>107</td>\n",
       "      <td>Grace</td>\n",
       "      <td>HR</td>\n",
       "      <td>53000.0</td>\n",
       "      <td>2019-04-18</td>\n",
       "      <td>3.2</td>\n",
       "      <td>False</td>\n",
       "    </tr>\n",
       "    <tr>\n",
       "      <th>7</th>\n",
       "      <td>108</td>\n",
       "      <td>Helen</td>\n",
       "      <td>Marketing</td>\n",
       "      <td>60000.0</td>\n",
       "      <td>2020-09-25</td>\n",
       "      <td>4.1</td>\n",
       "      <td>True</td>\n",
       "    </tr>\n",
       "    <tr>\n",
       "      <th>9</th>\n",
       "      <td>110</td>\n",
       "      <td>Jane</td>\n",
       "      <td>Finance</td>\n",
       "      <td>63000.0</td>\n",
       "      <td>2021-06-01</td>\n",
       "      <td>4.3</td>\n",
       "      <td>True</td>\n",
       "    </tr>\n",
       "  </tbody>\n",
       "</table>\n",
       "</div>"
      ],
      "text/plain": [
       "   EmployeeID     Name Department   Salary    JoinDate  PerformanceScore  \\\n",
       "1         102      Bob    Finance  62000.0  2019-07-15               4.2   \n",
       "2         103  Charlie         IT  72000.0  2020-08-10               4.8   \n",
       "3         104    David  Marketing  58000.0  2017-03-12               3.9   \n",
       "4         105      Eva         IT  69000.0  2021-01-05               4.5   \n",
       "6         107    Grace         HR  53000.0  2019-04-18               3.2   \n",
       "7         108    Helen  Marketing  60000.0  2020-09-25               4.1   \n",
       "9         110     Jane    Finance  63000.0  2021-06-01               4.3   \n",
       "\n",
       "  Active  \n",
       "1   True  \n",
       "2   True  \n",
       "3  False  \n",
       "4   True  \n",
       "6  False  \n",
       "7   True  \n",
       "9   True  "
      ]
     },
     "execution_count": 52,
     "metadata": {},
     "output_type": "execute_result"
    }
   ],
   "source": [
    "dff"
   ]
  },
  {
   "cell_type": "code",
   "execution_count": 53,
   "id": "29358d60",
   "metadata": {},
   "outputs": [],
   "source": [
    "dff.set_index('Name', inplace=True)"
   ]
  },
  {
   "cell_type": "code",
   "execution_count": 45,
   "id": "3c8cff49",
   "metadata": {},
   "outputs": [
    {
     "data": {
      "application/vnd.microsoft.datawrangler.viewer.v0+json": {
       "columns": [
        {
         "name": "Name",
         "rawType": "object",
         "type": "string"
        },
        {
         "name": "EmployeeID",
         "rawType": "int64",
         "type": "integer"
        },
        {
         "name": "Department",
         "rawType": "object",
         "type": "string"
        },
        {
         "name": "Salary",
         "rawType": "float64",
         "type": "float"
        },
        {
         "name": "JoinDate",
         "rawType": "object",
         "type": "string"
        },
        {
         "name": "PerformanceScore",
         "rawType": "float64",
         "type": "float"
        },
        {
         "name": "Active",
         "rawType": "object",
         "type": "unknown"
        }
       ],
       "ref": "de98d5f1-7e96-4e1d-84d9-888aa86fd3c7",
       "rows": [
        [
         "Bob",
         "102",
         "Finance",
         "62000.0",
         "2019-07-15",
         "4.2",
         "True"
        ],
        [
         "Charlie",
         "103",
         "IT",
         "72000.0",
         "2020-08-10",
         "4.8",
         "True"
        ],
        [
         "David",
         "104",
         "Marketing",
         "58000.0",
         "2017-03-12",
         "3.9",
         "False"
        ],
        [
         "Eva",
         "105",
         "IT",
         "69000.0",
         "2021-01-05",
         "4.5",
         "True"
        ],
        [
         "Grace",
         "107",
         "HR",
         "53000.0",
         "2019-04-18",
         "3.2",
         "False"
        ],
        [
         "Helen",
         "108",
         "Marketing",
         "60000.0",
         "2020-09-25",
         "4.1",
         "True"
        ],
        [
         "Jane",
         "110",
         "Finance",
         "63000.0",
         "2021-06-01",
         "4.3",
         "True"
        ]
       ],
       "shape": {
        "columns": 6,
        "rows": 7
       }
      },
      "text/html": [
       "<div>\n",
       "<style scoped>\n",
       "    .dataframe tbody tr th:only-of-type {\n",
       "        vertical-align: middle;\n",
       "    }\n",
       "\n",
       "    .dataframe tbody tr th {\n",
       "        vertical-align: top;\n",
       "    }\n",
       "\n",
       "    .dataframe thead th {\n",
       "        text-align: right;\n",
       "    }\n",
       "</style>\n",
       "<table border=\"1\" class=\"dataframe\">\n",
       "  <thead>\n",
       "    <tr style=\"text-align: right;\">\n",
       "      <th></th>\n",
       "      <th>EmployeeID</th>\n",
       "      <th>Department</th>\n",
       "      <th>Salary</th>\n",
       "      <th>JoinDate</th>\n",
       "      <th>PerformanceScore</th>\n",
       "      <th>Active</th>\n",
       "    </tr>\n",
       "    <tr>\n",
       "      <th>Name</th>\n",
       "      <th></th>\n",
       "      <th></th>\n",
       "      <th></th>\n",
       "      <th></th>\n",
       "      <th></th>\n",
       "      <th></th>\n",
       "    </tr>\n",
       "  </thead>\n",
       "  <tbody>\n",
       "    <tr>\n",
       "      <th>Bob</th>\n",
       "      <td>102</td>\n",
       "      <td>Finance</td>\n",
       "      <td>62000.0</td>\n",
       "      <td>2019-07-15</td>\n",
       "      <td>4.2</td>\n",
       "      <td>True</td>\n",
       "    </tr>\n",
       "    <tr>\n",
       "      <th>Charlie</th>\n",
       "      <td>103</td>\n",
       "      <td>IT</td>\n",
       "      <td>72000.0</td>\n",
       "      <td>2020-08-10</td>\n",
       "      <td>4.8</td>\n",
       "      <td>True</td>\n",
       "    </tr>\n",
       "    <tr>\n",
       "      <th>David</th>\n",
       "      <td>104</td>\n",
       "      <td>Marketing</td>\n",
       "      <td>58000.0</td>\n",
       "      <td>2017-03-12</td>\n",
       "      <td>3.9</td>\n",
       "      <td>False</td>\n",
       "    </tr>\n",
       "    <tr>\n",
       "      <th>Eva</th>\n",
       "      <td>105</td>\n",
       "      <td>IT</td>\n",
       "      <td>69000.0</td>\n",
       "      <td>2021-01-05</td>\n",
       "      <td>4.5</td>\n",
       "      <td>True</td>\n",
       "    </tr>\n",
       "    <tr>\n",
       "      <th>Grace</th>\n",
       "      <td>107</td>\n",
       "      <td>HR</td>\n",
       "      <td>53000.0</td>\n",
       "      <td>2019-04-18</td>\n",
       "      <td>3.2</td>\n",
       "      <td>False</td>\n",
       "    </tr>\n",
       "    <tr>\n",
       "      <th>Helen</th>\n",
       "      <td>108</td>\n",
       "      <td>Marketing</td>\n",
       "      <td>60000.0</td>\n",
       "      <td>2020-09-25</td>\n",
       "      <td>4.1</td>\n",
       "      <td>True</td>\n",
       "    </tr>\n",
       "    <tr>\n",
       "      <th>Jane</th>\n",
       "      <td>110</td>\n",
       "      <td>Finance</td>\n",
       "      <td>63000.0</td>\n",
       "      <td>2021-06-01</td>\n",
       "      <td>4.3</td>\n",
       "      <td>True</td>\n",
       "    </tr>\n",
       "  </tbody>\n",
       "</table>\n",
       "</div>"
      ],
      "text/plain": [
       "         EmployeeID Department   Salary    JoinDate  PerformanceScore Active\n",
       "Name                                                                        \n",
       "Bob             102    Finance  62000.0  2019-07-15               4.2   True\n",
       "Charlie         103         IT  72000.0  2020-08-10               4.8   True\n",
       "David           104  Marketing  58000.0  2017-03-12               3.9  False\n",
       "Eva             105         IT  69000.0  2021-01-05               4.5   True\n",
       "Grace           107         HR  53000.0  2019-04-18               3.2  False\n",
       "Helen           108  Marketing  60000.0  2020-09-25               4.1   True\n",
       "Jane            110    Finance  63000.0  2021-06-01               4.3   True"
      ]
     },
     "execution_count": 45,
     "metadata": {},
     "output_type": "execute_result"
    }
   ],
   "source": [
    "dff"
   ]
  },
  {
   "cell_type": "code",
   "execution_count": 46,
   "id": "0235b7b0",
   "metadata": {},
   "outputs": [],
   "source": [
    "dff.fillna(130, inplace = True)"
   ]
  },
  {
   "cell_type": "code",
   "execution_count": 54,
   "id": "449adc9d",
   "metadata": {},
   "outputs": [],
   "source": [
    "dff['JoinDate']=pd.to_datetime(dff['JoinDate'],errors='coerce')"
   ]
  },
  {
   "cell_type": "code",
   "execution_count": 64,
   "id": "42445348",
   "metadata": {},
   "outputs": [],
   "source": [
    "dff"
   ]
  },
  {
   "cell_type": "code",
   "execution_count": 56,
   "id": "0e20c644",
   "metadata": {},
   "outputs": [],
   "source": [
    "dff=dff.dropna(subset=['JoinDate'], inplace=True)  #After using pd.to_datetime(..., errors='coerce'), \n",
    "#any invalid date strings become NaT. This line helps clean the DataFrame by removing those rows.\n"
   ]
  },
  {
   "cell_type": "markdown",
   "id": "2253fe76",
   "metadata": {},
   "source": [
    "# Replacing Values"
   ]
  },
  {
   "cell_type": "code",
   "execution_count": 66,
   "id": "025516cf",
   "metadata": {},
   "outputs": [
    {
     "name": "stdout",
     "output_type": "stream",
     "text": [
      "RangeIndex(start=0, stop=11, step=1)\n"
     ]
    }
   ],
   "source": [
    "print(dff.index)"
   ]
  },
  {
   "cell_type": "code",
   "execution_count": 67,
   "id": "084d225c",
   "metadata": {},
   "outputs": [
    {
     "data": {
      "application/vnd.microsoft.datawrangler.viewer.v0+json": {
       "columns": [
        {
         "name": "index",
         "rawType": "int64",
         "type": "integer"
        },
        {
         "name": "EmployeeID",
         "rawType": "int64",
         "type": "integer"
        },
        {
         "name": "Name",
         "rawType": "object",
         "type": "string"
        },
        {
         "name": "Department",
         "rawType": "object",
         "type": "string"
        },
        {
         "name": "Salary",
         "rawType": "float64",
         "type": "float"
        },
        {
         "name": "JoinDate",
         "rawType": "object",
         "type": "string"
        },
        {
         "name": "PerformanceScore",
         "rawType": "float64",
         "type": "float"
        },
        {
         "name": "Active",
         "rawType": "object",
         "type": "unknown"
        }
       ],
       "ref": "1bc6f948-5bff-429d-bffd-1e947dbec859",
       "rows": [
        [
         "0",
         "101",
         "Alice",
         "HR",
         "55000.0",
         "2018-06-21",
         null,
         "True"
        ],
        [
         "1",
         "102",
         "Bob",
         "Finance",
         "62000.0",
         "2019-07-15",
         "4.2",
         "True"
        ],
        [
         "2",
         "103",
         "Charlie",
         "IT",
         "72000.0",
         "2020-08-10",
         "4.8",
         "True"
        ],
        [
         "3",
         "104",
         "David",
         "Marketing",
         "58000.0",
         "2017-03-12",
         "3.9",
         "False"
        ],
        [
         "4",
         "105",
         "Eva",
         "IT",
         "69000.0",
         "2021-01-05",
         "4.5",
         "True"
        ],
        [
         "5",
         "106",
         "Frank",
         "Finance",
         null,
         "2018-11-30",
         "4.0",
         "True"
        ],
        [
         "6",
         "107",
         "Grace",
         "HR",
         "53000.0",
         "2019-04-18",
         "3.2",
         "False"
        ],
        [
         "7",
         "108",
         "Helen",
         "Marketing",
         "60000.0",
         "2020-09-25",
         "4.1",
         "True"
        ],
        [
         "8",
         "109",
         "Ian",
         "IT",
         "71000.0",
         "2022-02-14",
         null,
         "True"
        ],
        [
         "9",
         "110",
         "Jane",
         "Finance",
         "63000.0",
         "2021-06-01",
         "4.3",
         "True"
        ],
        [
         "10",
         "110",
         "Jane",
         "Finance",
         "63000.0",
         "2021-06-01",
         "4.3",
         null
        ]
       ],
       "shape": {
        "columns": 7,
        "rows": 11
       }
      },
      "text/html": [
       "<div>\n",
       "<style scoped>\n",
       "    .dataframe tbody tr th:only-of-type {\n",
       "        vertical-align: middle;\n",
       "    }\n",
       "\n",
       "    .dataframe tbody tr th {\n",
       "        vertical-align: top;\n",
       "    }\n",
       "\n",
       "    .dataframe thead th {\n",
       "        text-align: right;\n",
       "    }\n",
       "</style>\n",
       "<table border=\"1\" class=\"dataframe\">\n",
       "  <thead>\n",
       "    <tr style=\"text-align: right;\">\n",
       "      <th></th>\n",
       "      <th>EmployeeID</th>\n",
       "      <th>Name</th>\n",
       "      <th>Department</th>\n",
       "      <th>Salary</th>\n",
       "      <th>JoinDate</th>\n",
       "      <th>PerformanceScore</th>\n",
       "      <th>Active</th>\n",
       "    </tr>\n",
       "  </thead>\n",
       "  <tbody>\n",
       "    <tr>\n",
       "      <th>0</th>\n",
       "      <td>101</td>\n",
       "      <td>Alice</td>\n",
       "      <td>HR</td>\n",
       "      <td>55000.0</td>\n",
       "      <td>2018-06-21</td>\n",
       "      <td>NaN</td>\n",
       "      <td>True</td>\n",
       "    </tr>\n",
       "    <tr>\n",
       "      <th>1</th>\n",
       "      <td>102</td>\n",
       "      <td>Bob</td>\n",
       "      <td>Finance</td>\n",
       "      <td>62000.0</td>\n",
       "      <td>2019-07-15</td>\n",
       "      <td>4.2</td>\n",
       "      <td>True</td>\n",
       "    </tr>\n",
       "    <tr>\n",
       "      <th>2</th>\n",
       "      <td>103</td>\n",
       "      <td>Charlie</td>\n",
       "      <td>IT</td>\n",
       "      <td>72000.0</td>\n",
       "      <td>2020-08-10</td>\n",
       "      <td>4.8</td>\n",
       "      <td>True</td>\n",
       "    </tr>\n",
       "    <tr>\n",
       "      <th>3</th>\n",
       "      <td>104</td>\n",
       "      <td>David</td>\n",
       "      <td>Marketing</td>\n",
       "      <td>58000.0</td>\n",
       "      <td>2017-03-12</td>\n",
       "      <td>3.9</td>\n",
       "      <td>False</td>\n",
       "    </tr>\n",
       "    <tr>\n",
       "      <th>4</th>\n",
       "      <td>105</td>\n",
       "      <td>Eva</td>\n",
       "      <td>IT</td>\n",
       "      <td>69000.0</td>\n",
       "      <td>2021-01-05</td>\n",
       "      <td>4.5</td>\n",
       "      <td>True</td>\n",
       "    </tr>\n",
       "    <tr>\n",
       "      <th>5</th>\n",
       "      <td>106</td>\n",
       "      <td>Frank</td>\n",
       "      <td>Finance</td>\n",
       "      <td>NaN</td>\n",
       "      <td>2018-11-30</td>\n",
       "      <td>4.0</td>\n",
       "      <td>True</td>\n",
       "    </tr>\n",
       "    <tr>\n",
       "      <th>6</th>\n",
       "      <td>107</td>\n",
       "      <td>Grace</td>\n",
       "      <td>HR</td>\n",
       "      <td>53000.0</td>\n",
       "      <td>2019-04-18</td>\n",
       "      <td>3.2</td>\n",
       "      <td>False</td>\n",
       "    </tr>\n",
       "    <tr>\n",
       "      <th>7</th>\n",
       "      <td>108</td>\n",
       "      <td>Helen</td>\n",
       "      <td>Marketing</td>\n",
       "      <td>60000.0</td>\n",
       "      <td>2020-09-25</td>\n",
       "      <td>4.1</td>\n",
       "      <td>True</td>\n",
       "    </tr>\n",
       "    <tr>\n",
       "      <th>8</th>\n",
       "      <td>109</td>\n",
       "      <td>Ian</td>\n",
       "      <td>IT</td>\n",
       "      <td>71000.0</td>\n",
       "      <td>2022-02-14</td>\n",
       "      <td>NaN</td>\n",
       "      <td>True</td>\n",
       "    </tr>\n",
       "    <tr>\n",
       "      <th>9</th>\n",
       "      <td>110</td>\n",
       "      <td>Jane</td>\n",
       "      <td>Finance</td>\n",
       "      <td>63000.0</td>\n",
       "      <td>2021-06-01</td>\n",
       "      <td>4.3</td>\n",
       "      <td>True</td>\n",
       "    </tr>\n",
       "    <tr>\n",
       "      <th>10</th>\n",
       "      <td>110</td>\n",
       "      <td>Jane</td>\n",
       "      <td>Finance</td>\n",
       "      <td>63000.0</td>\n",
       "      <td>2021-06-01</td>\n",
       "      <td>4.3</td>\n",
       "      <td>NaN</td>\n",
       "    </tr>\n",
       "  </tbody>\n",
       "</table>\n",
       "</div>"
      ],
      "text/plain": [
       "    EmployeeID     Name Department   Salary    JoinDate  PerformanceScore  \\\n",
       "0          101    Alice         HR  55000.0  2018-06-21               NaN   \n",
       "1          102      Bob    Finance  62000.0  2019-07-15               4.2   \n",
       "2          103  Charlie         IT  72000.0  2020-08-10               4.8   \n",
       "3          104    David  Marketing  58000.0  2017-03-12               3.9   \n",
       "4          105      Eva         IT  69000.0  2021-01-05               4.5   \n",
       "5          106    Frank    Finance      NaN  2018-11-30               4.0   \n",
       "6          107    Grace         HR  53000.0  2019-04-18               3.2   \n",
       "7          108    Helen  Marketing  60000.0  2020-09-25               4.1   \n",
       "8          109      Ian         IT  71000.0  2022-02-14               NaN   \n",
       "9          110     Jane    Finance  63000.0  2021-06-01               4.3   \n",
       "10         110     Jane    Finance  63000.0  2021-06-01               4.3   \n",
       "\n",
       "   Active  \n",
       "0    True  \n",
       "1    True  \n",
       "2    True  \n",
       "3   False  \n",
       "4    True  \n",
       "5    True  \n",
       "6   False  \n",
       "7    True  \n",
       "8    True  \n",
       "9    True  \n",
       "10    NaN  "
      ]
     },
     "execution_count": 67,
     "metadata": {},
     "output_type": "execute_result"
    }
   ],
   "source": [
    "dff"
   ]
  },
  {
   "cell_type": "code",
   "execution_count": 68,
   "id": "e9dce2fd",
   "metadata": {},
   "outputs": [],
   "source": [
    "dff.loc[2,'Salary']=72000"
   ]
  },
  {
   "cell_type": "code",
   "execution_count": 69,
   "id": "8f7cac42",
   "metadata": {},
   "outputs": [
    {
     "data": {
      "application/vnd.microsoft.datawrangler.viewer.v0+json": {
       "columns": [
        {
         "name": "index",
         "rawType": "int64",
         "type": "integer"
        },
        {
         "name": "EmployeeID",
         "rawType": "int64",
         "type": "integer"
        },
        {
         "name": "Name",
         "rawType": "object",
         "type": "string"
        },
        {
         "name": "Department",
         "rawType": "object",
         "type": "string"
        },
        {
         "name": "Salary",
         "rawType": "float64",
         "type": "float"
        },
        {
         "name": "JoinDate",
         "rawType": "object",
         "type": "string"
        },
        {
         "name": "PerformanceScore",
         "rawType": "float64",
         "type": "float"
        },
        {
         "name": "Active",
         "rawType": "object",
         "type": "unknown"
        }
       ],
       "ref": "bcea02b3-2d21-450b-bf8a-1a3ecbb2fd72",
       "rows": [
        [
         "0",
         "101",
         "Alice",
         "HR",
         "55000.0",
         "2018-06-21",
         null,
         "True"
        ],
        [
         "1",
         "102",
         "Bob",
         "Finance",
         "62000.0",
         "2019-07-15",
         "4.2",
         "True"
        ],
        [
         "2",
         "103",
         "Charlie",
         "IT",
         "72000.0",
         "2020-08-10",
         "4.8",
         "True"
        ],
        [
         "3",
         "104",
         "David",
         "Marketing",
         "58000.0",
         "2017-03-12",
         "3.9",
         "False"
        ],
        [
         "4",
         "105",
         "Eva",
         "IT",
         "69000.0",
         "2021-01-05",
         "4.5",
         "True"
        ],
        [
         "5",
         "106",
         "Frank",
         "Finance",
         null,
         "2018-11-30",
         "4.0",
         "True"
        ],
        [
         "6",
         "107",
         "Grace",
         "HR",
         "53000.0",
         "2019-04-18",
         "3.2",
         "False"
        ],
        [
         "7",
         "108",
         "Helen",
         "Marketing",
         "60000.0",
         "2020-09-25",
         "4.1",
         "True"
        ],
        [
         "8",
         "109",
         "Ian",
         "IT",
         "71000.0",
         "2022-02-14",
         null,
         "True"
        ],
        [
         "9",
         "110",
         "Jane",
         "Finance",
         "63000.0",
         "2021-06-01",
         "4.3",
         "True"
        ],
        [
         "10",
         "110",
         "Jane",
         "Finance",
         "63000.0",
         "2021-06-01",
         "4.3",
         null
        ]
       ],
       "shape": {
        "columns": 7,
        "rows": 11
       }
      },
      "text/html": [
       "<div>\n",
       "<style scoped>\n",
       "    .dataframe tbody tr th:only-of-type {\n",
       "        vertical-align: middle;\n",
       "    }\n",
       "\n",
       "    .dataframe tbody tr th {\n",
       "        vertical-align: top;\n",
       "    }\n",
       "\n",
       "    .dataframe thead th {\n",
       "        text-align: right;\n",
       "    }\n",
       "</style>\n",
       "<table border=\"1\" class=\"dataframe\">\n",
       "  <thead>\n",
       "    <tr style=\"text-align: right;\">\n",
       "      <th></th>\n",
       "      <th>EmployeeID</th>\n",
       "      <th>Name</th>\n",
       "      <th>Department</th>\n",
       "      <th>Salary</th>\n",
       "      <th>JoinDate</th>\n",
       "      <th>PerformanceScore</th>\n",
       "      <th>Active</th>\n",
       "    </tr>\n",
       "  </thead>\n",
       "  <tbody>\n",
       "    <tr>\n",
       "      <th>0</th>\n",
       "      <td>101</td>\n",
       "      <td>Alice</td>\n",
       "      <td>HR</td>\n",
       "      <td>55000.0</td>\n",
       "      <td>2018-06-21</td>\n",
       "      <td>NaN</td>\n",
       "      <td>True</td>\n",
       "    </tr>\n",
       "    <tr>\n",
       "      <th>1</th>\n",
       "      <td>102</td>\n",
       "      <td>Bob</td>\n",
       "      <td>Finance</td>\n",
       "      <td>62000.0</td>\n",
       "      <td>2019-07-15</td>\n",
       "      <td>4.2</td>\n",
       "      <td>True</td>\n",
       "    </tr>\n",
       "    <tr>\n",
       "      <th>2</th>\n",
       "      <td>103</td>\n",
       "      <td>Charlie</td>\n",
       "      <td>IT</td>\n",
       "      <td>72000.0</td>\n",
       "      <td>2020-08-10</td>\n",
       "      <td>4.8</td>\n",
       "      <td>True</td>\n",
       "    </tr>\n",
       "    <tr>\n",
       "      <th>3</th>\n",
       "      <td>104</td>\n",
       "      <td>David</td>\n",
       "      <td>Marketing</td>\n",
       "      <td>58000.0</td>\n",
       "      <td>2017-03-12</td>\n",
       "      <td>3.9</td>\n",
       "      <td>False</td>\n",
       "    </tr>\n",
       "    <tr>\n",
       "      <th>4</th>\n",
       "      <td>105</td>\n",
       "      <td>Eva</td>\n",
       "      <td>IT</td>\n",
       "      <td>69000.0</td>\n",
       "      <td>2021-01-05</td>\n",
       "      <td>4.5</td>\n",
       "      <td>True</td>\n",
       "    </tr>\n",
       "    <tr>\n",
       "      <th>5</th>\n",
       "      <td>106</td>\n",
       "      <td>Frank</td>\n",
       "      <td>Finance</td>\n",
       "      <td>NaN</td>\n",
       "      <td>2018-11-30</td>\n",
       "      <td>4.0</td>\n",
       "      <td>True</td>\n",
       "    </tr>\n",
       "    <tr>\n",
       "      <th>6</th>\n",
       "      <td>107</td>\n",
       "      <td>Grace</td>\n",
       "      <td>HR</td>\n",
       "      <td>53000.0</td>\n",
       "      <td>2019-04-18</td>\n",
       "      <td>3.2</td>\n",
       "      <td>False</td>\n",
       "    </tr>\n",
       "    <tr>\n",
       "      <th>7</th>\n",
       "      <td>108</td>\n",
       "      <td>Helen</td>\n",
       "      <td>Marketing</td>\n",
       "      <td>60000.0</td>\n",
       "      <td>2020-09-25</td>\n",
       "      <td>4.1</td>\n",
       "      <td>True</td>\n",
       "    </tr>\n",
       "    <tr>\n",
       "      <th>8</th>\n",
       "      <td>109</td>\n",
       "      <td>Ian</td>\n",
       "      <td>IT</td>\n",
       "      <td>71000.0</td>\n",
       "      <td>2022-02-14</td>\n",
       "      <td>NaN</td>\n",
       "      <td>True</td>\n",
       "    </tr>\n",
       "    <tr>\n",
       "      <th>9</th>\n",
       "      <td>110</td>\n",
       "      <td>Jane</td>\n",
       "      <td>Finance</td>\n",
       "      <td>63000.0</td>\n",
       "      <td>2021-06-01</td>\n",
       "      <td>4.3</td>\n",
       "      <td>True</td>\n",
       "    </tr>\n",
       "    <tr>\n",
       "      <th>10</th>\n",
       "      <td>110</td>\n",
       "      <td>Jane</td>\n",
       "      <td>Finance</td>\n",
       "      <td>63000.0</td>\n",
       "      <td>2021-06-01</td>\n",
       "      <td>4.3</td>\n",
       "      <td>NaN</td>\n",
       "    </tr>\n",
       "  </tbody>\n",
       "</table>\n",
       "</div>"
      ],
      "text/plain": [
       "    EmployeeID     Name Department   Salary    JoinDate  PerformanceScore  \\\n",
       "0          101    Alice         HR  55000.0  2018-06-21               NaN   \n",
       "1          102      Bob    Finance  62000.0  2019-07-15               4.2   \n",
       "2          103  Charlie         IT  72000.0  2020-08-10               4.8   \n",
       "3          104    David  Marketing  58000.0  2017-03-12               3.9   \n",
       "4          105      Eva         IT  69000.0  2021-01-05               4.5   \n",
       "5          106    Frank    Finance      NaN  2018-11-30               4.0   \n",
       "6          107    Grace         HR  53000.0  2019-04-18               3.2   \n",
       "7          108    Helen  Marketing  60000.0  2020-09-25               4.1   \n",
       "8          109      Ian         IT  71000.0  2022-02-14               NaN   \n",
       "9          110     Jane    Finance  63000.0  2021-06-01               4.3   \n",
       "10         110     Jane    Finance  63000.0  2021-06-01               4.3   \n",
       "\n",
       "   Active  \n",
       "0    True  \n",
       "1    True  \n",
       "2    True  \n",
       "3   False  \n",
       "4    True  \n",
       "5    True  \n",
       "6   False  \n",
       "7    True  \n",
       "8    True  \n",
       "9    True  \n",
       "10    NaN  "
      ]
     },
     "execution_count": 69,
     "metadata": {},
     "output_type": "execute_result"
    }
   ],
   "source": [
    "dff"
   ]
  },
  {
   "cell_type": "markdown",
   "id": "63fb95b8",
   "metadata": {},
   "source": [
    "# Duplicates"
   ]
  },
  {
   "cell_type": "code",
   "execution_count": 70,
   "id": "a5f4990e",
   "metadata": {},
   "outputs": [
    {
     "name": "stdout",
     "output_type": "stream",
     "text": [
      "0     False\n",
      "1     False\n",
      "2     False\n",
      "3     False\n",
      "4     False\n",
      "5     False\n",
      "6     False\n",
      "7     False\n",
      "8     False\n",
      "9     False\n",
      "10    False\n",
      "dtype: bool\n"
     ]
    }
   ],
   "source": [
    "print(dff.duplicated())"
   ]
  },
  {
   "cell_type": "code",
   "execution_count": 71,
   "id": "c9261391",
   "metadata": {},
   "outputs": [],
   "source": [
    "df.drop_duplicates(inplace = True)"
   ]
  },
  {
   "cell_type": "code",
   "execution_count": 72,
   "id": "9262a9f5",
   "metadata": {},
   "outputs": [
    {
     "data": {
      "image/png": "[encoded data removed]",
      "text/plain": [
       "<Figure size 640x480 with 1 Axes>"
      ]
     },
     "metadata": {},
     "output_type": "display_data"
    }
   ],
   "source": [
    "import pandas as pd\n",
    "import matplotlib.pyplot as plt\n",
    "\n",
    "df = pd.read_csv('employee_data.csv')\n",
    "\n",
    "df.plot()\n",
    "\n",
    "plt.show()"
   ]
  },
  {
   "cell_type": "code",
   "execution_count": 75,
   "id": "5b5bad9c",
   "metadata": {},
   "outputs": [
    {
     "data": {
      "image/png": "[encoded data removed]",
      "text/plain": [
       "<Figure size 640x480 with 1 Axes>"
      ]
     },
     "metadata": {},
     "output_type": "display_data"
    }
   ],
   "source": [
    "df.plot(kind = 'scatter', x = 'EmployeeID', y = 'Salary')\n",
    "\n",
    "plt.show()"
   ]
  },
  {
   "cell_type": "code",
   "execution_count": null,
   "id": "e3d1a068",
   "metadata": {},
   "outputs": [],
   "source": []
  }
 ],
 "metadata": {
  "kernelspec": {
   "display_name": "Python 3",
   "language": "python",
   "name": "python3"
  },
  "language_info": {
   "codemirror_mode": {
    "name": "ipython",
    "version": 3
   },
   "file_extension": ".py",
   "mimetype": "text/x-python",
   "name": "python",
   "nbconvert_exporter": "python",
   "pygments_lexer": "ipython3",
   "version": "3.12.4"
  }
 },
 "nbformat": 4,
 "nbformat_minor": 5
}
